{
 "cells": [
  {
   "cell_type": "code",
   "execution_count": 1,
   "id": "108ef642-70aa-416e-a230-89a6634b7267",
   "metadata": {},
   "outputs": [],
   "source": [
    "from geoprocessing import Disaster, TweetRaster"
   ]
  },
  {
   "cell_type": "code",
   "execution_count": 2,
   "id": "638accaf-2081-40f4-bc2d-ccf3e2688cf4",
   "metadata": {},
   "outputs": [],
   "source": [
    "resolution = 8"
   ]
  },
  {
   "cell_type": "code",
   "execution_count": 3,
   "id": "2e83d63f-1d33-4753-b83d-7576448bca18",
   "metadata": {},
   "outputs": [],
   "source": [
    "raster = TweetRaster(resolution=resolution)"
   ]
  },
  {
   "cell_type": "code",
   "execution_count": 4,
   "id": "c8630d47-3ef5-4e1d-aa00-1ac1f13fb75e",
   "metadata": {},
   "outputs": [],
   "source": [
    "raster.load_tweets('data/tweets.csv',\n",
    "                   longitude_column='lng',\n",
    "                   latitude_column='lat',\n",
    "                   crs=4326,\n",
    "                   filter_before='2015-01-01')"
   ]
  },
  {
   "cell_type": "code",
   "execution_count": 5,
   "id": "93a1b035-05e7-4225-a987-7ef7b49f8e5b",
   "metadata": {},
   "outputs": [],
   "source": [
    "latest_tweet = raster.tweets['created_at'].max()"
   ]
  },
  {
   "cell_type": "code",
   "execution_count": 6,
   "id": "3c77751d-4cb2-46ea-8e35-e25c07572e4f",
   "metadata": {},
   "outputs": [],
   "source": [
    "# raster.geocode_disaster_dataset('data/disasters.csv', longitude_column='Longitude', latitude_column='Latitude')"
   ]
  },
  {
   "cell_type": "code",
   "execution_count": 7,
   "id": "b61cb8cc-5335-49ca-87a2-925fe44738ec",
   "metadata": {
    "tags": []
   },
   "outputs": [],
   "source": [
    "raster.load_disasters('data/disasters_geocoded.csv',\n",
    "                      longitude_column='Longitude',\n",
    "                      latitude_column='Latitude',\n",
    "                      crs=4326,\n",
    "                      filter_before='2015-01-01',\n",
    "                      filter_after=latest_tweet)"
   ]
  },
  {
   "cell_type": "code",
   "execution_count": 8,
   "id": "7fe620b6-c9d3-42b2-be21-f55f421bb800",
   "metadata": {},
   "outputs": [],
   "source": [
    "attributes = ['aggressiveness', 'sentiment', 'stance']\n",
    "days_before_after = [7, 14, 21, 28]"
   ]
  },
  {
   "cell_type": "code",
   "execution_count": 9,
   "id": "051a8801-1e89-4573-85fd-cb5c77c46206",
   "metadata": {
    "scrolled": true,
    "tags": []
   },
   "outputs": [
    {
     "name": "stdout",
     "output_type": "stream",
     "text": [
      "File ready: training_data_8deg/training_data_8deg_aggressiveness_7db_7da.csv\n",
      "File ready: training_data_8deg/training_data_8deg_aggressiveness_7db_14da.csv\n",
      "File ready: training_data_8deg/training_data_8deg_aggressiveness_7db_21da.csv\n",
      "File ready: training_data_8deg/training_data_8deg_aggressiveness_7db_28da.csv\n",
      "File ready: training_data_8deg/training_data_8deg_aggressiveness_14db_7da.csv\n",
      "File ready: training_data_8deg/training_data_8deg_aggressiveness_14db_14da.csv\n",
      "File ready: training_data_8deg/training_data_8deg_aggressiveness_14db_21da.csv\n",
      "File ready: training_data_8deg/training_data_8deg_aggressiveness_14db_28da.csv\n",
      "File ready: training_data_8deg/training_data_8deg_aggressiveness_21db_7da.csv\n",
      "File ready: training_data_8deg/training_data_8deg_aggressiveness_21db_14da.csv\n",
      "File ready: training_data_8deg/training_data_8deg_aggressiveness_21db_21da.csv\n",
      "File ready: training_data_8deg/training_data_8deg_aggressiveness_21db_28da.csv\n",
      "File ready: training_data_8deg/training_data_8deg_aggressiveness_28db_7da.csv\n",
      "File ready: training_data_8deg/training_data_8deg_aggressiveness_28db_14da.csv\n",
      "File ready: training_data_8deg/training_data_8deg_aggressiveness_28db_21da.csv\n",
      "File ready: training_data_8deg/training_data_8deg_aggressiveness_28db_28da.csv\n",
      "File ready: training_data_8deg/training_data_8deg_sentiment_7db_7da.csv\n",
      "File ready: training_data_8deg/training_data_8deg_sentiment_7db_14da.csv\n",
      "File ready: training_data_8deg/training_data_8deg_sentiment_7db_21da.csv\n",
      "File ready: training_data_8deg/training_data_8deg_sentiment_7db_28da.csv\n",
      "File ready: training_data_8deg/training_data_8deg_sentiment_14db_7da.csv\n",
      "File ready: training_data_8deg/training_data_8deg_sentiment_14db_14da.csv\n",
      "File ready: training_data_8deg/training_data_8deg_sentiment_14db_21da.csv\n",
      "File ready: training_data_8deg/training_data_8deg_sentiment_14db_28da.csv\n",
      "File ready: training_data_8deg/training_data_8deg_sentiment_21db_7da.csv\n",
      "File ready: training_data_8deg/training_data_8deg_sentiment_21db_14da.csv\n",
      "File ready: training_data_8deg/training_data_8deg_sentiment_21db_21da.csv\n",
      "File ready: training_data_8deg/training_data_8deg_sentiment_21db_28da.csv\n",
      "File ready: training_data_8deg/training_data_8deg_sentiment_28db_7da.csv\n",
      "File ready: training_data_8deg/training_data_8deg_sentiment_28db_14da.csv\n",
      "File ready: training_data_8deg/training_data_8deg_sentiment_28db_21da.csv\n",
      "File ready: training_data_8deg/training_data_8deg_sentiment_28db_28da.csv\n",
      "File ready: training_data_8deg/training_data_8deg_stance_7db_7da.csv\n",
      "File ready: training_data_8deg/training_data_8deg_stance_7db_14da.csv\n",
      "File ready: training_data_8deg/training_data_8deg_stance_7db_21da.csv\n",
      "File ready: training_data_8deg/training_data_8deg_stance_7db_28da.csv\n",
      "File ready: training_data_8deg/training_data_8deg_stance_14db_7da.csv\n",
      "File ready: training_data_8deg/training_data_8deg_stance_14db_14da.csv\n",
      "File ready: training_data_8deg/training_data_8deg_stance_14db_21da.csv\n",
      "File ready: training_data_8deg/training_data_8deg_stance_14db_28da.csv\n",
      "File ready: training_data_8deg/training_data_8deg_stance_21db_7da.csv\n",
      "File ready: training_data_8deg/training_data_8deg_stance_21db_14da.csv\n",
      "File ready: training_data_8deg/training_data_8deg_stance_21db_21da.csv\n",
      "File ready: training_data_8deg/training_data_8deg_stance_21db_28da.csv\n",
      "File ready: training_data_8deg/training_data_8deg_stance_28db_7da.csv\n",
      "File ready: training_data_8deg/training_data_8deg_stance_28db_14da.csv\n",
      "File ready: training_data_8deg/training_data_8deg_stance_28db_21da.csv\n",
      "File ready: training_data_8deg/training_data_8deg_stance_28db_28da.csv\n"
     ]
    }
   ],
   "source": [
    "import os.path\n",
    "\n",
    "for attribute in attributes:\n",
    "    for days_before in days_before_after:\n",
    "        for days_after in days_before_after:\n",
    "            \n",
    "            PATH = f'training_data_{resolution}deg/training_data_{resolution}deg_{attribute}_{days_before}db_{days_after}da.csv'\n",
    "            \n",
    "            if not os.path.exists(PATH):\n",
    "                raster.create_training_data(attribute, days_before, days_after)\n",
    "                raster.write_training_data(attribute, days_before, days_after)\n",
    "                \n",
    "            print(f'File ready: {PATH}')"
   ]
  }
 ],
 "metadata": {
  "kernelspec": {
   "display_name": "Python 3 (ipykernel)",
   "language": "python",
   "name": "python3"
  },
  "language_info": {
   "codemirror_mode": {
    "name": "ipython",
    "version": 3
   },
   "file_extension": ".py",
   "mimetype": "text/x-python",
   "name": "python",
   "nbconvert_exporter": "python",
   "pygments_lexer": "ipython3",
   "version": "3.10.9"
  }
 },
 "nbformat": 4,
 "nbformat_minor": 5
}
